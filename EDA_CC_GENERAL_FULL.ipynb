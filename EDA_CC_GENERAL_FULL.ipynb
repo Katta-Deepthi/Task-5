{
 "cells": [
  {
   "cell_type": "markdown",
   "id": "c6fe010b",
   "metadata": {},
   "source": [
    "# Credit Card Customer Dataset - Full EDA Report"
   ]
  },
  {
   "cell_type": "markdown",
   "id": "4438b659",
   "metadata": {},
   "source": [
    "## 1. Import Required Libraries"
   ]
  },
  {
   "cell_type": "code",
   "execution_count": null,
   "id": "8d308250",
   "metadata": {},
   "outputs": [],
   "source": [
    "\n",
    "import pandas as pd\n",
    "import numpy as np\n",
    "import matplotlib.pyplot as plt\n",
    "import seaborn as sns\n",
    "sns.set(style='whitegrid')\n"
   ]
  },
  {
   "cell_type": "markdown",
   "id": "56e30e5c",
   "metadata": {},
   "source": [
    "## 2. Load and Prepare Data"
   ]
  },
  {
   "cell_type": "code",
   "execution_count": null,
   "id": "33dab67d",
   "metadata": {},
   "outputs": [],
   "source": [
    "\n",
    "# Load data\n",
    "df = pd.read_csv('/mnt/data/CC GENERAL.csv')\n",
    "\n",
    "# Drop missing values\n",
    "df_clean = df.dropna()\n",
    "df_clean.shape\n"
   ]
  },
  {
   "cell_type": "markdown",
   "id": "8a5ec26a",
   "metadata": {},
   "source": [
    "## 3. Exploratory Data Analysis"
   ]
  },
  {
   "cell_type": "markdown",
   "id": "d936549d",
   "metadata": {},
   "source": [
    "### 3.1 Histograms"
   ]
  },
  {
   "cell_type": "code",
   "execution_count": null,
   "id": "fc17c90a",
   "metadata": {},
   "outputs": [],
   "source": [
    "\n",
    "df_clean.hist(bins=30, figsize=(20, 15), edgecolor='black')\n",
    "plt.suptitle('Histograms of Features', fontsize=20)\n",
    "plt.show()\n"
   ]
  },
  {
   "cell_type": "markdown",
   "id": "ad6a0d78",
   "metadata": {},
   "source": [
    "**Observations:**\n",
    "- Most features are right-skewed.\n",
    "- High number of customers have low financial activity; few have extremely high values."
   ]
  },
  {
   "cell_type": "markdown",
   "id": "f1865929",
   "metadata": {},
   "source": [
    "### 3.2 Boxplots"
   ]
  },
  {
   "cell_type": "code",
   "execution_count": null,
   "id": "87cb92f2",
   "metadata": {},
   "outputs": [],
   "source": [
    "\n",
    "plt.figure(figsize=(20, 10))\n",
    "sns.boxplot(data=df_clean)\n",
    "plt.xticks(rotation=90)\n",
    "plt.title('Boxplot for All Features')\n",
    "plt.show()\n"
   ]
  },
  {
   "cell_type": "markdown",
   "id": "60d4de42",
   "metadata": {},
   "source": [
    "**Observations:**\n",
    "- Clear presence of outliers in `BALANCE`, `PURCHASES`, `CASH_ADVANCE`, and `CREDIT_LIMIT`.\n",
    "- Features have varying spreads; some are highly variable."
   ]
  },
  {
   "cell_type": "markdown",
   "id": "61ce7157",
   "metadata": {},
   "source": [
    "### 3.3 Scatterplots"
   ]
  },
  {
   "cell_type": "markdown",
   "id": "6bbeac41",
   "metadata": {},
   "source": [
    "#### 3.3.1 Balance vs Credit Limit"
   ]
  },
  {
   "cell_type": "code",
   "execution_count": null,
   "id": "5b2eef4d",
   "metadata": {},
   "outputs": [],
   "source": [
    "\n",
    "plt.figure(figsize=(8, 6))\n",
    "sns.scatterplot(x='CREDIT_LIMIT', y='BALANCE', data=df_clean)\n",
    "plt.title('Balance vs Credit Limit')\n",
    "plt.show()\n"
   ]
  },
  {
   "cell_type": "markdown",
   "id": "cf2e7aad",
   "metadata": {},
   "source": [
    "**Observations:**\n",
    "- Positive relationship: customers with higher credit limits tend to have higher balances.\n",
    "- Several customers maintain low balances even with high limits."
   ]
  },
  {
   "cell_type": "markdown",
   "id": "e719fce2",
   "metadata": {},
   "source": [
    "#### 3.3.2 Purchases vs Payments"
   ]
  },
  {
   "cell_type": "code",
   "execution_count": null,
   "id": "b939aeab",
   "metadata": {},
   "outputs": [],
   "source": [
    "\n",
    "plt.figure(figsize=(8, 6))\n",
    "sns.scatterplot(x='PAYMENTS', y='PURCHASES', data=df_clean)\n",
    "plt.title('Purchases vs Payments')\n",
    "plt.show()\n"
   ]
  },
  {
   "cell_type": "markdown",
   "id": "ef09b18d",
   "metadata": {},
   "source": [
    "**Observations:**\n",
    "- Purchases and payments are positively correlated.\n",
    "- Few customers have extremely high payments compared to their purchases."
   ]
  },
  {
   "cell_type": "markdown",
   "id": "111b5807",
   "metadata": {},
   "source": [
    "## 4. Identified Relationships and Trends"
   ]
  },
  {
   "cell_type": "markdown",
   "id": "81bf3112",
   "metadata": {},
   "source": [
    "\n",
    "- **BALANCE vs CREDIT_LIMIT:** Positive correlation (linear clusters)\n",
    "- **PURCHASES vs PAYMENTS:** Positive correlation with some spread\n",
    "- **General Trend:** Customers with higher financial activity also engage in higher payments and balances.\n",
    "- **Data Skewness:** Most features show right skewness; normalization recommended.\n",
    "- **Outliers:** Present significantly in high-value customers; careful handling needed.\n"
   ]
  },
  {
   "cell_type": "markdown",
   "id": "ace37524",
   "metadata": {},
   "source": [
    "## 5. Conclusion and Recommendations"
   ]
  },
  {
   "cell_type": "markdown",
   "id": "4027fed8",
   "metadata": {},
   "source": [
    "\n",
    "- Strong positive relationships exist between financial amount features.\n",
    "- Outlier handling and normalization are necessary steps before modeling.\n",
    "- Customers show diverse behaviors, suggesting clustering for segmentation.\n",
    "- Future work: Apply machine learning models for clustering or prediction tasks.\n"
   ]
  }
 ],
 "metadata": {},
 "nbformat": 4,
 "nbformat_minor": 5
}
